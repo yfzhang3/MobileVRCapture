{
  "cells": [
    {
      "cell_type": "markdown",
      "metadata": {
        "id": "_DnuwRjOGIiS"
      },
      "source": [
        "# 0. Install and Import Dependencies\n"
      ]
    },
    {
      "cell_type": "code",
      "execution_count": 1,
      "metadata": {
        "colab": {
          "base_uri": "https://localhost:8080/"
        },
        "id": "heF2ttLjGIiT",
        "outputId": "b0acbcff-cb6f-433e-bfa9-a23e525b7f5f"
      },
      "outputs": [
        {
          "name": "stdout",
          "output_type": "stream",
          "text": [
            "Requirement already satisfied: mediapipe in /opt/homebrew/lib/python3.11/site-packages (0.10.5)\n",
            "Requirement already satisfied: opencv-python in /opt/homebrew/lib/python3.11/site-packages (4.8.0.76)\n",
            "Requirement already satisfied: absl-py in /opt/homebrew/lib/python3.11/site-packages (from mediapipe) (1.4.0)\n",
            "Requirement already satisfied: attrs>=19.1.0 in /opt/homebrew/lib/python3.11/site-packages (from mediapipe) (23.1.0)\n",
            "Requirement already satisfied: flatbuffers>=2.0 in /opt/homebrew/lib/python3.11/site-packages (from mediapipe) (23.5.26)\n",
            "Requirement already satisfied: matplotlib in /opt/homebrew/lib/python3.11/site-packages (from mediapipe) (3.7.2)\n",
            "Requirement already satisfied: numpy in /opt/homebrew/lib/python3.11/site-packages (from mediapipe) (1.24.3)\n",
            "Requirement already satisfied: opencv-contrib-python in /opt/homebrew/lib/python3.11/site-packages (from mediapipe) (4.8.0.76)\n",
            "Requirement already satisfied: protobuf<4,>=3.11 in /opt/homebrew/lib/python3.11/site-packages (from mediapipe) (3.20.3)\n",
            "Requirement already satisfied: sounddevice>=0.4.4 in /opt/homebrew/lib/python3.11/site-packages (from mediapipe) (0.4.6)\n",
            "Requirement already satisfied: CFFI>=1.0 in /opt/homebrew/lib/python3.11/site-packages (from sounddevice>=0.4.4->mediapipe) (1.15.1)\n",
            "Requirement already satisfied: contourpy>=1.0.1 in /opt/homebrew/lib/python3.11/site-packages (from matplotlib->mediapipe) (1.1.0)\n",
            "Requirement already satisfied: cycler>=0.10 in /opt/homebrew/lib/python3.11/site-packages (from matplotlib->mediapipe) (0.11.0)\n",
            "Requirement already satisfied: fonttools>=4.22.0 in /opt/homebrew/lib/python3.11/site-packages (from matplotlib->mediapipe) (4.42.1)\n",
            "Requirement already satisfied: kiwisolver>=1.0.1 in /opt/homebrew/lib/python3.11/site-packages (from matplotlib->mediapipe) (1.4.5)\n",
            "Requirement already satisfied: packaging>=20.0 in /opt/homebrew/lib/python3.11/site-packages (from matplotlib->mediapipe) (23.1)\n",
            "Requirement already satisfied: pillow>=6.2.0 in /opt/homebrew/lib/python3.11/site-packages (from matplotlib->mediapipe) (10.0.0)\n",
            "Requirement already satisfied: pyparsing<3.1,>=2.3.1 in /opt/homebrew/lib/python3.11/site-packages (from matplotlib->mediapipe) (3.0.9)\n",
            "Requirement already satisfied: python-dateutil>=2.7 in /opt/homebrew/lib/python3.11/site-packages (from matplotlib->mediapipe) (2.8.2)\n",
            "Requirement already satisfied: pycparser in /opt/homebrew/lib/python3.11/site-packages (from CFFI>=1.0->sounddevice>=0.4.4->mediapipe) (2.21)\n",
            "Requirement already satisfied: six>=1.5 in /opt/homebrew/lib/python3.11/site-packages (from python-dateutil>=2.7->matplotlib->mediapipe) (1.16.0)\n"
          ]
        }
      ],
      "source": [
        "!pip install mediapipe opencv-python"
      ]
    },
    {
      "cell_type": "code",
      "execution_count": null,
      "metadata": {
        "id": "clP6IRibGIiU"
      },
      "outputs": [],
      "source": [
        "import mediapipe as mp\n",
        "import cv2"
      ]
    },
    {
      "cell_type": "code",
      "execution_count": null,
      "metadata": {
        "id": "0t90nEyZGIiU"
      },
      "outputs": [],
      "source": [
        "mp_drawing = mp.solutions.drawing_utils\n",
        "mp_holistic = mp.solutions.holistic"
      ]
    },
    {
      "cell_type": "markdown",
      "metadata": {
        "id": "5P6D_pj6GIiU"
      },
      "source": [
        "# 1. Get Realtime Webcam Feed\n"
      ]
    },
    {
      "cell_type": "code",
      "execution_count": null,
      "metadata": {
        "id": "AW0LbdFCGIiU"
      },
      "outputs": [],
      "source": [
        "# getting video capture device\n",
        "# the 0: device #, 0 means 1 device but might need to test dif #s\n",
        "cap = cv2.VideoCapture(0)\n",
        "# while capture device is open, read the video feed\n",
        "while cap.isOpened():\n",
        "    # extract 2 values from feed -> read the feed from the webcam\n",
        "    ret, frame = cap.read()\n",
        "    # frame is img returned\n",
        "    cv2.imshow('Raw Webcam Feed', frame)\n",
        "    # press q to quit\n",
        "    if cv2.waitKey(10) & 0xFF == ord('q'):\n",
        "        break\n",
        "\n",
        "# if while loop ends -> release webcam and close all windows\n",
        "cap.release()\n",
        "cv2.destroyAllWindows()"
      ]
    },
    {
      "cell_type": "code",
      "execution_count": null,
      "metadata": {
        "id": "NZRunYBTGIiU"
      },
      "outputs": [],
      "source": [
        "cap.release()\n",
        "cv2.destroyAllWindows()"
      ]
    },
    {
      "cell_type": "markdown",
      "metadata": {
        "id": "8jmzEVJ8GIiV"
      },
      "source": [
        "# 2. Make Detections from Feed\n",
        "\n",
        "1. Detect Facial Landmarks\n",
        "2. Detect Hand Poses\n",
        "3. Detect Body Poses\n"
      ]
    },
    {
      "cell_type": "code",
      "execution_count": null,
      "metadata": {
        "id": "15vw9GAQGIiV"
      },
      "outputs": [],
      "source": [
        "# overlay media pipe holsitic components\n",
        "cap = cv2.VideoCapture(0)\n",
        "'''\n",
        "params:\n",
        "    values are between 0 and 1 (1 being the highest accuracy )\n",
        "    min_detection_confidence = 0.5\n",
        "    min_tracking_confidence = 0.5\n",
        "'''\n",
        "with mp_holistic.Holistic(min_detection_confidence=0.5, min_tracking_confidence=0.5) as holistic:\n",
        "\n",
        "    while cap.isOpened():\n",
        "        ret, frame = cap.read()\n",
        "\n",
        "        # Recolor Feed from BGR (used by openCV) to RGB\n",
        "        image = cv2.cvtColor(frame, cv2.COLOR_BGR2RGB)\n",
        "        # Make Detections\n",
        "        results = holistic.process(image)\n",
        "        # print(results.face_landmarks)\n",
        "\n",
        "        # face_landmarks, pose_landmarks, left_hand_landmarks, right_hand_landmarks\n",
        "\n",
        "        # Recolor image back to BGR for rendering\n",
        "        image = cv2.cvtColor(image, cv2.COLOR_RGB2BGR)\n",
        "\n",
        "        # Draw face landmarks\n",
        "        mp_drawing.draw_landmarks(image, results.face_landmarks, mp_holistic.FACE_CONNECTIONS)\n",
        "\n",
        "        # Right hand\n",
        "        mp_drawing.draw_landmarks(image, results.right_hand_landmarks, mp_holistic.HAND_CONNECTIONS)\n",
        "\n",
        "        # Left Hand\n",
        "        mp_drawing.draw_landmarks(image, results.left_hand_landmarks, mp_holistic.HAND_CONNECTIONS)\n",
        "\n",
        "        # Pose Detections\n",
        "        mp_drawing.draw_landmarks(image, results.pose_landmarks, mp_holistic.POSE_CONNECTIONS)\n",
        "\n",
        "        cv2.imshow('Raw Webcam Feed', image)\n",
        "\n",
        "        if cv2.waitKey(10) & 0xFF == ord('q'):\n",
        "            break\n",
        "\n",
        "cap.release()\n",
        "cv2.destroyAllWindows()"
      ]
    },
    {
      "cell_type": "code",
      "execution_count": null,
      "metadata": {
        "colab": {
          "base_uri": "https://localhost:8080/"
        },
        "id": "YFW71rFCGIiV",
        "outputId": "967963fa-771e-4637-c112-7e4a214a7a84"
      },
      "outputs": [
        {
          "data": {
            "text/plain": [
              "frozenset({(0, 1),\n",
              "           (0, 4),\n",
              "           (1, 2),\n",
              "           (2, 3),\n",
              "           (3, 7),\n",
              "           (4, 5),\n",
              "           (5, 6),\n",
              "           (6, 8),\n",
              "           (9, 10),\n",
              "           (11, 12),\n",
              "           (11, 13),\n",
              "           (11, 23),\n",
              "           (12, 14),\n",
              "           (12, 24),\n",
              "           (13, 15),\n",
              "           (14, 16),\n",
              "           (15, 17),\n",
              "           (15, 19),\n",
              "           (15, 21),\n",
              "           (16, 18),\n",
              "           (16, 20),\n",
              "           (16, 22),\n",
              "           (17, 19),\n",
              "           (18, 20),\n",
              "           (23, 24),\n",
              "           (23, 25),\n",
              "           (24, 26),\n",
              "           (25, 27),\n",
              "           (26, 28),\n",
              "           (27, 29),\n",
              "           (27, 31),\n",
              "           (28, 30),\n",
              "           (28, 32),\n",
              "           (29, 31),\n",
              "           (30, 32)})"
            ]
          },
          "execution_count": 7,
          "metadata": {},
          "output_type": "execute_result"
        }
      ],
      "source": [
        "mp_holistic.POSE_CONNECTIONS"
      ]
    },
    {
      "cell_type": "markdown",
      "metadata": {
        "id": "ig8bb8tmGIiW"
      },
      "source": [
        "# 3. Apply Styling\n"
      ]
    },
    {
      "cell_type": "code",
      "execution_count": null,
      "metadata": {
        "colab": {
          "base_uri": "https://localhost:8080/"
        },
        "id": "HaKLmuCpGIiW",
        "outputId": "0ad8b356-23b8-4b00-89b5-f2cfe04d3055"
      },
      "outputs": [
        {
          "data": {
            "text/plain": [
              "DrawingSpec(color=(0, 0, 255), thickness=2, circle_radius=2)"
            ]
          },
          "execution_count": 8,
          "metadata": {},
          "output_type": "execute_result"
        }
      ],
      "source": [
        "mp_drawing.DrawingSpec(color=(0,0,255), thickness=2, circle_radius=2)"
      ]
    },
    {
      "cell_type": "code",
      "execution_count": null,
      "metadata": {
        "id": "9XfOj8dRGIiW"
      },
      "outputs": [],
      "source": [
        "mp_drawing.draw_landmarks??"
      ]
    },
    {
      "cell_type": "code",
      "execution_count": null,
      "metadata": {
        "id": "uitJ4IEIGIiW"
      },
      "outputs": [],
      "source": [
        "cap = cv2.VideoCapture(0)\n",
        "# Initiate holistic model\n",
        "with mp_holistic.Holistic(min_detection_confidence=0.5, min_tracking_confidence=0.5) as holistic:\n",
        "\n",
        "    while cap.isOpened():\n",
        "        ret, frame = cap.read()\n",
        "\n",
        "        # Recolor Feed\n",
        "        image = cv2.cvtColor(frame, cv2.COLOR_BGR2RGB)\n",
        "        # Make Detections\n",
        "        results = holistic.process(image)\n",
        "        # print(results.face_landmarks)\n",
        "\n",
        "        # face_landmarks, pose_landmarks, left_hand_landmarks, right_hand_landmarks\n",
        "\n",
        "        # Recolor image back to BGR for rendering\n",
        "        image = cv2.cvtColor(image, cv2.COLOR_RGB2BGR)\n",
        "\n",
        "        # 1. Draw face landmarks\n",
        "        mp_drawing.draw_landmarks(image, results.face_landmarks, mp_holistic.FACE_CONNECTIONS,\n",
        "                                 mp_drawing.DrawingSpec(color=(80,110,10), thickness=1, circle_radius=1),\n",
        "                                 mp_drawing.DrawingSpec(color=(80,256,121), thickness=1, circle_radius=1)\n",
        "                                 )\n",
        "\n",
        "        # 2. Right hand\n",
        "        mp_drawing.draw_landmarks(image, results.right_hand_landmarks, mp_holistic.HAND_CONNECTIONS,\n",
        "                                 mp_drawing.DrawingSpec(color=(80,22,10), thickness=2, circle_radius=4),\n",
        "                                 mp_drawing.DrawingSpec(color=(80,44,121), thickness=2, circle_radius=2)\n",
        "                                 )\n",
        "\n",
        "        # 3. Left Hand\n",
        "        mp_drawing.draw_landmarks(image, results.left_hand_landmarks, mp_holistic.HAND_CONNECTIONS,\n",
        "                                 mp_drawing.DrawingSpec(color=(121,22,76), thickness=2, circle_radius=4),\n",
        "                                 mp_drawing.DrawingSpec(color=(121,44,250), thickness=2, circle_radius=2)\n",
        "                                 )\n",
        "\n",
        "        # 4. Pose Detections\n",
        "        mp_drawing.draw_landmarks(image, results.pose_landmarks, mp_holistic.POSE_CONNECTIONS,\n",
        "                                 mp_drawing.DrawingSpec(color=(245,117,66), thickness=2, circle_radius=4),\n",
        "                                 mp_drawing.DrawingSpec(color=(245,66,230), thickness=2, circle_radius=2)\n",
        "                                 )\n",
        "\n",
        "        cv2.imshow('Raw Webcam Feed', image)\n",
        "\n",
        "        if cv2.waitKey(10) & 0xFF == ord('q'):\n",
        "            break\n",
        "\n",
        "cap.release()\n",
        "cv2.destroyAllWindows()"
      ]
    }
  ],
  "metadata": {
    "colab": {
      "provenance": []
    },
    "kernelspec": {
      "display_name": "Python 3",
      "language": "python",
      "name": "python3"
    },
    "language_info": {
      "codemirror_mode": {
        "name": "ipython",
        "version": 3
      },
      "file_extension": ".py",
      "mimetype": "text/x-python",
      "name": "python",
      "nbconvert_exporter": "python",
      "pygments_lexer": "ipython3",
      "version": "3.11.4"
    }
  },
  "nbformat": 4,
  "nbformat_minor": 0
}
